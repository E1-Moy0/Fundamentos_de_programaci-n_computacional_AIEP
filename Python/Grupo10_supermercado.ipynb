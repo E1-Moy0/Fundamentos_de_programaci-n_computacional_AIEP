{
  "nbformat": 4,
  "nbformat_minor": 0,
  "metadata": {
    "colab": {
      "provenance": [],
      "collapsed_sections": []
    },
    "kernelspec": {
      "name": "python3",
      "display_name": "Python 3"
    },
    "language_info": {
      "name": "python"
    }
  },
  "cells": [
    {
      "cell_type": "code",
      "execution_count": 29,
      "metadata": {
        "id": "7FCr-tLLzEsu",
        "colab": {
          "base_uri": "https://localhost:8080/"
        },
        "outputId": "4dad7831-aa41-46e4-f8ea-85650d477381"
      },
      "outputs": [
        {
          "output_type": "stream",
          "name": "stdout",
          "text": [
            "Ingrese por favor la cantidad de productos comprados 2\n",
            "Ingrese Precio del producto 1 -1\n",
            "Precio invalido. Por favor ingreselo nuevamente.\n",
            "Ingrese Precio del producto 1 2000\n",
            "Ingrese numero de unidades del producto 1 -1\n",
            "Precio invalido. Por favor ingreselo nuevamente.\n",
            "Ingrese Precio del producto 1 2000\n",
            "Ingrese numero de unidades del producto 1 3\n",
            "Ingrese Precio del producto 2 -1\n",
            "Precio invalido. Por favor ingreselo nuevamente.\n",
            "Ingrese Precio del producto 2 3000\n",
            "Ingrese numero de unidades del producto 2 -1\n",
            "Precio invalido. Por favor ingreselo nuevamente.\n",
            "Ingrese Precio del producto 2 3000\n",
            "Ingrese numero de unidades del producto 2 3\n",
            "Su total es 25000 por lo que tiene un descuento de 10%, y su nuevo total es:  22500.0\n"
          ]
        }
      ],
      "source": [
        "contadorciclos = int(1)\n",
        "N_sumaprecio=int(0)\n",
        "N_numerodeprod = int(input(\"Ingrese por favor la cantidad de productos comprados \"));\n",
        "if N_numerodeprod<int(0):\n",
        "  print(\"Precio invalido. Por favor ingreselo nuevamente.\")\n",
        "else:\n",
        "  while contadorciclos<=N_numerodeprod:\n",
        "    N_precioprod= int(input(f\"Ingrese Precio del producto {contadorciclos} \"))\n",
        "    if N_precioprod<int(0):\n",
        "      print(\"Precio invalido. Por favor ingreselo nuevamente.\")\n",
        "    else:\n",
        "      N_sumaprecio = int(N_sumaprecio) + int(N_precioprod)\n",
        "      N_unidadesprod = int(input(f\"Ingrese numero de unidades del producto {contadorciclos} \"))\n",
        "      if N_unidadesprod<=int(0):\n",
        "        print(\"Precio invalido. Por favor ingreselo nuevamente.\")\n",
        "      else:\n",
        "        contadorciclos = int(contadorciclos + 1)\n",
        "        N_sumaprecio = int(N_sumaprecio + int(N_precioprod*N_unidadesprod))\n",
        "if int(N_sumaprecio)>int(0) and int(N_sumaprecio)<=int(30000):\n",
        "  N_preciocondesc10 = int(N_sumaprecio)*(0.90)\n",
        "  print (f\"Su total es {N_sumaprecio} por lo que tiene un descuento de 10%, y su nuevo total es:  {N_preciocondesc10}\")\n",
        "else:\n",
        "  if int(30001)<=N_sumaprecio and N_sumaprecio<=100000:\n",
        "    N_preciocondesc20= int((N_sumaprecio)*(0.80))\n",
        "    print (f\"Su total es {N_sumaprecio} por lo que tiene un descuento de 20%, y su nuevo total es:  {N_preciocondesc20}\")\n",
        "  else: \n",
        "    if N_sumaprecio>=int(100001):\n",
        "      N_preciocondesc30= int((N_sumaprecio)*(0.70))\n",
        "      print (f\"Su total es {N_sumaprecio} por lo que tiene un descuento de 20%, y su nuevo total es:  {N_preciocondesc30}\")\n",
        "    else:\n",
        "      print(f\"Su total es {N_sumaprecio}\")\n",
        "\n"
      ]
    },
    {
      "cell_type": "code",
      "source": [
        "i = int(1)\n",
        "contadorsueldo = int(0)\n",
        "contadordeptoinfo = int(0)\n",
        "contadordeptoconta = int(0)\n",
        "print(\"¿Desea ingresar un nuevo empleado?\")\n",
        "print(\"1. Si\")\n",
        "print(\"2. No\")\n",
        "opciona = input()\n",
        "if opciona!=1 and opciona!=2:\n",
        "  print(\"Dato invalido, por favor ingreselo nuevamente.\")\n",
        "else:\n",
        "  while opciona == 1:\n",
        "    print(f\"Ingrese a que departamento pertenece el trabajador numero  {i}\")\n",
        "    print(\"1. Departamento de Informatica\")\n",
        "    print(\"2. Departamento de Contanbilidad\")\n",
        "    depto = input()\n",
        "    if depto!=1 and depto!=2:\n",
        "      print(\"Dato invalido, por favor ingreselo nuevamente.\")\n",
        "    else:\n",
        "      if depto == 1:\n",
        "        \n"
      ],
      "metadata": {
        "id": "hxNgxDdRAFRQ"
      },
      "execution_count": null,
      "outputs": []
    }
  ]
}